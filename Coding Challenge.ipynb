{
 "cells": [
  {
   "cell_type": "markdown",
   "metadata": {},
   "source": [
    "# Component Breakdown"
   ]
  },
  {
   "cell_type": "markdown",
   "metadata": {},
   "source": [
    "1. SENDER\n",
    "    1. Initialize communication: shake hands with reciever\n",
    "    2. Send message\n",
    "2. RECIEVER\n",
    "    1. Initialize communication: shake hands with sender\n",
    "    2. Listen for messages\n",
    "3. MESSAGE DEFINITION\n",
    "4. GENERATOR\n",
    "5. AGGREGATOR\n",
    "    1. Unpack message\n",
    "    2. Aggregate data into an array"
   ]
  },
  {
   "cell_type": "markdown",
   "metadata": {},
   "source": [
    "# Failure Mode Testing"
   ]
  },
  {
   "cell_type": "markdown",
   "metadata": {},
   "source": [
    "1. Speed tests\n",
    "    1. Faster sending  -- 100Hz, 1000Hz\n",
    "    2. Slower sending  -- 10Hz, 1Hz\n",
    "    3. Inconsistent speed -- (60 --> 120 --> 30 --> 60)\n",
    "2. Missed message (1, 2, 4, 5)\n",
    "3. Repeated message (1, 2, 2, 3, 4, 5)\n",
    "4. Unknown message structure\n",
    "5. Missing data (NaN values)"
   ]
  }
 ],
 "metadata": {
  "kernelspec": {
   "display_name": "Python 3",
   "language": "python",
   "name": "python3"
  },
  "language_info": {
   "codemirror_mode": {
    "name": "ipython",
    "version": 3
   },
   "file_extension": ".py",
   "mimetype": "text/x-python",
   "name": "python",
   "nbconvert_exporter": "python",
   "pygments_lexer": "ipython3",
   "version": "3.6.6"
  }
 },
 "nbformat": 4,
 "nbformat_minor": 2
}
